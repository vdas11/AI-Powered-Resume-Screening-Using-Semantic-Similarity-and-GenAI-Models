{
 "cells": [
  {
   "cell_type": "code",
   "execution_count": 1,
   "id": "8d1b89e7",
   "metadata": {},
   "outputs": [
    {
     "name": "stdout",
     "output_type": "stream",
     "text": [
      "\n",
      "📋 Resume Comparison Result:\n",
      "Job Description: Looking for a Machine Learning Engineer skilled in Python, NLP, scikit-learn, and pandas.\n",
      "Should have experience building ML pipelines and working with real-world data.\n",
      "\n",
      "🏆 Best Fit: vishnu (Score: 0.5399)\n",
      "\n",
      "🔍 Full Results:\n",
      "- vishnu: Similarity Score = 0.5399\n",
      "- Sumukh Nagesh Bharadwaj : Similarity Score = 0.4267\n"
     ]
    }
   ],
   "source": [
    "import fitz  # PyMuPDF\n",
    "from sentence_transformers import SentenceTransformer, util\n",
    "import os\n",
    "\n",
    "# ✅ Use the local file paths in your current directory\n",
    "pdf_paths = [\n",
    "    \"vishnu.pdf\",\n",
    "    \"Sumukh Nagesh Bharadwaj .pdf\"\n",
    "]\n",
    "\n",
    "# Extract text from PDF\n",
    "def extract_text(pdf_path):\n",
    "    doc = fitz.open(pdf_path)\n",
    "    return \" \".join([page.get_text() for page in doc]).strip()\n",
    "\n",
    "# Job description to compare against\n",
    "job_description = \"\"\"\n",
    "Looking for a Machine Learning Engineer skilled in Python, NLP, scikit-learn, and pandas.\n",
    "Should have experience building ML pipelines and working with real-world data.\n",
    "\"\"\"\n",
    "\n",
    "# Load the sentence-transformers model\n",
    "model = SentenceTransformer(\"all-MiniLM-L6-v2\")\n",
    "\n",
    "# Read and process the resumes\n",
    "resumes = [extract_text(path) for path in pdf_paths]\n",
    "names = [os.path.basename(path).replace(\".pdf\", \"\") for path in pdf_paths]\n",
    "\n",
    "# Generate embeddings and compute similarity\n",
    "job_embed = model.encode(job_description, convert_to_tensor=True)\n",
    "resume_embeds = model.encode(resumes, convert_to_tensor=True)\n",
    "scores = util.cos_sim(job_embed, resume_embeds)[0].cpu().numpy()\n",
    "\n",
    "# Show results\n",
    "best_index = int(scores.argmax())\n",
    "print(\"\\n📋 Resume Comparison Result:\")\n",
    "print(f\"Job Description: {job_description.strip()}\")\n",
    "print(f\"\\n🏆 Best Fit: {names[best_index]} (Score: {scores[best_index]:.4f})\")\n",
    "\n",
    "print(\"\\n🔍 Full Results:\")\n",
    "for i, name in enumerate(names):\n",
    "    print(f\"- {name}: Similarity Score = {scores[i]:.4f}\")"
   ]
  },
  {
   "cell_type": "code",
   "execution_count": null,
   "id": "06839c15",
   "metadata": {},
   "outputs": [],
   "source": []
  }
 ],
 "metadata": {
  "kernelspec": {
   "display_name": "Python 3 (ipykernel)",
   "language": "python",
   "name": "python3"
  },
  "language_info": {
   "codemirror_mode": {
    "name": "ipython",
    "version": 3
   },
   "file_extension": ".py",
   "mimetype": "text/x-python",
   "name": "python",
   "nbconvert_exporter": "python",
   "pygments_lexer": "ipython3",
   "version": "3.11.3"
  }
 },
 "nbformat": 4,
 "nbformat_minor": 5
}
